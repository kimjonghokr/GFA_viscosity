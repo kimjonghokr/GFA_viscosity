{
 "cells": [
  {
   "cell_type": "markdown",
   "id": "f31ad19b",
   "metadata": {},
   "source": [
    "## Library import"
   ]
  },
  {
   "cell_type": "code",
   "execution_count": 1,
   "id": "319759f8",
   "metadata": {},
   "outputs": [],
   "source": [
    "import math\n",
    "import string\n",
    "\n",
    "import numpy as np\n",
    "import pandas as pd\n",
    "import torch\n",
    "from scipy.spatial.distance import cdist\n",
    "from sklearn.metrics import mean_squared_error as MSE\n",
    "\n",
    "from matplotlib import pyplot as plt\n",
    "from matplotlib.colors import LogNorm\n",
    "from mpl_toolkits.axes_grid1.inset_locator import inset_axes\n",
    "import ternary\n",
    "from ternary.helpers import simplex_iterator\n",
    "\n",
    "from models import ViscNet, ViscNetVFT\n",
    "from data import (viscosity_df, composition_df, test_idx, train_val_idx,\n",
    "                  train_idx, val_idx, compounds)"
   ]
  },
  {
   "cell_type": "code",
   "execution_count": 2,
   "id": "8f6adf2c",
   "metadata": {},
   "outputs": [],
   "source": [
    "import tensorflow as tf\n",
    "from tensorflow import keras\n",
    "import pandas as pd\n",
    "import numpy as np\n",
    "import matplotlib.pyplot as plt"
   ]
  },
  {
   "cell_type": "markdown",
   "id": "28073fd2",
   "metadata": {},
   "source": [
    "## Input compostion"
   ]
  },
  {
   "cell_type": "markdown",
   "id": "20af9379",
   "metadata": {},
   "source": [
    "0.99100\n",
    "0.00189\n",
    "0.00362\n",
    "0.00060\n",
    "0.00030\n",
    "0.00055\n",
    "0.00030\n",
    "0.00020\n",
    "0.00051\n",
    "0.00019\n",
    "0.00064\n",
    "0.00020"
   ]
  },
  {
   "cell_type": "code",
   "execution_count": 3,
   "id": "4fc5ad1b",
   "metadata": {},
   "outputs": [
    {
     "data": {
      "text/plain": [
       "0.0057"
      ]
     },
     "execution_count": 3,
     "metadata": {},
     "output_type": "execute_result"
    }
   ],
   "source": [
    "0.7327\n",
    "0.0625\n",
    "0.0959\n",
    "0.0158\n",
    "0.0078\n",
    "0.0145\n",
    "0.0159\n",
    "0.0103\n",
    "0.0135\n",
    "0.0051\n",
    "0.0203\n",
    "0.0057"
   ]
  },
  {
   "cell_type": "code",
   "execution_count": 4,
   "id": "3d03a838",
   "metadata": {},
   "outputs": [
    {
     "name": "stdout",
     "output_type": "stream",
     "text": [
      "1.0\n"
     ]
    }
   ],
   "source": [
    "prg_t = np.zeros((1,158))\n",
    "prg_t[0,0]  = 0.99100     # SiO2           \n",
    "prg_t[0,4]  = 0.00189     # Al2O3           \n",
    "prg_t[0,15] = 0.00362     # Li2O           \n",
    "prg_t[0,7]  = 0.00060     # MgO           \n",
    "prg_t[0,12] = 0.00030     # ZnO           \n",
    "prg_t[0,11] = 0.00055     # BaO           \n",
    "prg_t[0,23] = 0.00030     # TiO2           \n",
    "prg_t[0,2]  = 0.00020     # ZrO2           \n",
    "prg_t[0,1]  = 0.00051     # P2O5           \n",
    "prg_t[0,3]  = 0.00019     # Na2O           \n",
    "prg_t[0,8]  = 0.00064     # K2O            \n",
    "prg_t[0,6]  = 0.00020     # CaO    \n",
    "print(prg_t.sum())"
   ]
  },
  {
   "cell_type": "code",
   "execution_count": 5,
   "id": "39b041a9",
   "metadata": {},
   "outputs": [
    {
     "name": "stdout",
     "output_type": "stream",
     "text": [
      "0.9999999999999999\n"
     ]
    }
   ],
   "source": [
    "prg_v = np.zeros((1,39))\n",
    "prg_v[:,29] = prg_t[0,0]       # Si            \n",
    "prg_v[:,0]  = prg_t[0,4]       # Al     \n",
    "prg_v[:,18] = prg_t[0,15]      # Li      \n",
    "prg_v[:,19] = prg_t[0,7]       # Mg     \n",
    "prg_v[:,37] = prg_t[0,12]      # Zn      \n",
    "prg_v[:,3]  = prg_t[0,11]      # Ba      \n",
    "prg_v[:,33] = prg_t[0,23]      # Ti      \n",
    "prg_v[:,38] = prg_t[0,2]       # Zr     \n",
    "prg_v[:,25] = prg_t[0,1]       # P     \n",
    "prg_v[:,22] = prg_t[0,3]       # Na     \n",
    "prg_v[:,16] = prg_t[0,8]       # K     \n",
    "prg_v[:,6]  = prg_t[0,6]       #Ca     \n",
    "print(prg_v.sum())"
   ]
  },
  {
   "cell_type": "markdown",
   "id": "94e08e7b",
   "metadata": {},
   "source": [
    "## T_liquidus prediction"
   ]
  },
  {
   "cell_type": "code",
   "execution_count": 6,
   "id": "75fae876",
   "metadata": {},
   "outputs": [
    {
     "name": "stdout",
     "output_type": "stream",
     "text": [
      "Model: \"sequential\"\n",
      "_________________________________________________________________\n",
      "Layer (type)                 Output Shape              Param #   \n",
      "=================================================================\n",
      "dense (Dense)                (None, 2000)              318000    \n",
      "_________________________________________________________________\n",
      "batch_normalization (BatchNo (None, 2000)              8000      \n",
      "_________________________________________________________________\n",
      "activation (Activation)      (None, 2000)              0         \n",
      "_________________________________________________________________\n",
      "dropout (Dropout)            (None, 2000)              0         \n",
      "_________________________________________________________________\n",
      "dense_1 (Dense)              (None, 500)               1000500   \n",
      "_________________________________________________________________\n",
      "batch_normalization_1 (Batch (None, 500)               2000      \n",
      "_________________________________________________________________\n",
      "activation_1 (Activation)    (None, 500)               0         \n",
      "_________________________________________________________________\n",
      "dropout_1 (Dropout)          (None, 500)               0         \n",
      "_________________________________________________________________\n",
      "dense_2 (Dense)              (None, 100)               50100     \n",
      "_________________________________________________________________\n",
      "batch_normalization_2 (Batch (None, 100)               400       \n",
      "_________________________________________________________________\n",
      "activation_2 (Activation)    (None, 100)               0         \n",
      "_________________________________________________________________\n",
      "dropout_2 (Dropout)          (None, 100)               0         \n",
      "_________________________________________________________________\n",
      "dense_3 (Dense)              (None, 1)                 101       \n",
      "=================================================================\n",
      "Total params: 1,379,101\n",
      "Trainable params: 1,373,901\n",
      "Non-trainable params: 5,200\n",
      "_________________________________________________________________\n"
     ]
    }
   ],
   "source": [
    "t_model = keras.models.load_model('210503_tliq_NN_model.h5')\n",
    "\n",
    "t_model.summary()"
   ]
  },
  {
   "cell_type": "code",
   "execution_count": 7,
   "id": "7dab3f9d",
   "metadata": {},
   "outputs": [],
   "source": [
    "t_liquidus = t_model(prg_t)"
   ]
  },
  {
   "cell_type": "code",
   "execution_count": 8,
   "id": "b85bf7ae",
   "metadata": {},
   "outputs": [
    {
     "data": {
      "text/plain": [
       "array([1916.175], dtype=float32)"
      ]
     },
     "execution_count": 8,
     "metadata": {},
     "output_type": "execute_result"
    }
   ],
   "source": [
    "t_L = t_liquidus.numpy().ravel()\n",
    "t_L"
   ]
  },
  {
   "cell_type": "markdown",
   "id": "15d62e28",
   "metadata": {},
   "source": [
    "## Visicosity at T_liquidus"
   ]
  },
  {
   "cell_type": "code",
   "execution_count": 9,
   "id": "a6240867",
   "metadata": {},
   "outputs": [
    {
     "data": {
      "text/html": [
       "<div>\n",
       "<style scoped>\n",
       "    .dataframe tbody tr th:only-of-type {\n",
       "        vertical-align: middle;\n",
       "    }\n",
       "\n",
       "    .dataframe tbody tr th {\n",
       "        vertical-align: top;\n",
       "    }\n",
       "\n",
       "    .dataframe thead th {\n",
       "        text-align: right;\n",
       "    }\n",
       "</style>\n",
       "<table border=\"1\" class=\"dataframe\">\n",
       "  <thead>\n",
       "    <tr style=\"text-align: right;\">\n",
       "      <th></th>\n",
       "      <th>Al2O3</th>\n",
       "      <th>As2O3</th>\n",
       "      <th>B2O3</th>\n",
       "      <th>BaO</th>\n",
       "      <th>BeO</th>\n",
       "      <th>Bi2O3</th>\n",
       "      <th>CaO</th>\n",
       "      <th>CdO</th>\n",
       "      <th>CoO</th>\n",
       "      <th>Cs2O</th>\n",
       "      <th>...</th>\n",
       "      <th>SiO2</th>\n",
       "      <th>SrO</th>\n",
       "      <th>Ta2O5</th>\n",
       "      <th>TeO2</th>\n",
       "      <th>TiO2</th>\n",
       "      <th>Tl2O</th>\n",
       "      <th>WO3</th>\n",
       "      <th>Y2O3</th>\n",
       "      <th>ZnO</th>\n",
       "      <th>ZrO2</th>\n",
       "    </tr>\n",
       "  </thead>\n",
       "  <tbody>\n",
       "    <tr>\n",
       "      <th>0</th>\n",
       "      <td>0.00189</td>\n",
       "      <td>0.0</td>\n",
       "      <td>0.0</td>\n",
       "      <td>0.00055</td>\n",
       "      <td>0.0</td>\n",
       "      <td>0.0</td>\n",
       "      <td>0.0002</td>\n",
       "      <td>0.0</td>\n",
       "      <td>0.0</td>\n",
       "      <td>0.0</td>\n",
       "      <td>...</td>\n",
       "      <td>0.991</td>\n",
       "      <td>0.0</td>\n",
       "      <td>0.0</td>\n",
       "      <td>0.0</td>\n",
       "      <td>0.0003</td>\n",
       "      <td>0.0</td>\n",
       "      <td>0.0</td>\n",
       "      <td>0.0</td>\n",
       "      <td>0.0003</td>\n",
       "      <td>0.0002</td>\n",
       "    </tr>\n",
       "  </tbody>\n",
       "</table>\n",
       "<p>1 rows × 39 columns</p>\n",
       "</div>"
      ],
      "text/plain": [
       "     Al2O3  As2O3  B2O3      BaO  BeO  Bi2O3     CaO  CdO  CoO  Cs2O  ...  \\\n",
       "0  0.00189    0.0   0.0  0.00055  0.0    0.0  0.0002  0.0  0.0   0.0  ...   \n",
       "\n",
       "    SiO2  SrO  Ta2O5  TeO2    TiO2  Tl2O  WO3  Y2O3     ZnO    ZrO2  \n",
       "0  0.991  0.0    0.0   0.0  0.0003   0.0  0.0   0.0  0.0003  0.0002  \n",
       "\n",
       "[1 rows x 39 columns]"
      ]
     },
     "execution_count": 9,
     "metadata": {},
     "output_type": "execute_result"
    }
   ],
   "source": [
    "comp = composition_df.loc[test_idx]\n",
    "df = pd.DataFrame(prg_v,columns=comp.columns)\n",
    "df"
   ]
  },
  {
   "cell_type": "code",
   "execution_count": 10,
   "id": "cdf61674",
   "metadata": {},
   "outputs": [
    {
     "data": {
      "text/plain": [
       "ViscNet(\n",
       "  (hidden_layers): Sequential(\n",
       "    (0): Sequential(\n",
       "      (0): Linear(in_features=35, out_features=192, bias=True)\n",
       "      (1): Dropout(p=0.07942161101271952, inplace=False)\n",
       "      (2): ReLU()\n",
       "    )\n",
       "    (1): Sequential(\n",
       "      (0): Linear(in_features=192, out_features=48, bias=True)\n",
       "      (1): Dropout(p=0.05371454289414608, inplace=False)\n",
       "      (2): Tanh()\n",
       "    )\n",
       "  )\n",
       "  (output_layer): Sequential(\n",
       "    (0): Linear(in_features=48, out_features=3, bias=True)\n",
       "    (1): Sigmoid()\n",
       "  )\n",
       ")"
      ]
     },
     "execution_count": 10,
     "metadata": {},
     "output_type": "execute_result"
    }
   ],
   "source": [
    "model_dict = {\n",
    "    'ViscNet': f'files/viscnet.pt',\n",
    "    'ViscNet-Huber': f'files/viscnet_huber.pt',\n",
    "    'ViscNet-VFT': f'files/viscnet_vft.pt',\n",
    "}\n",
    "\n",
    "v_model = torch.load(model_dict['ViscNet'])\n",
    "v_model.eval()"
   ]
  },
  {
   "cell_type": "code",
   "execution_count": 11,
   "id": "e269d887",
   "metadata": {},
   "outputs": [
    {
     "name": "stdout",
     "output_type": "stream",
     "text": [
      "[2.7829914]\n"
     ]
    }
   ],
   "source": [
    "with torch.no_grad():\n",
    "    v_t_L = v_model.viscosity_from_composition(df, t_L)\n",
    "\n",
    "print(v_t_L)"
   ]
  },
  {
   "cell_type": "markdown",
   "id": "cd1dc579",
   "metadata": {},
   "source": [
    "## Glass Forming Ability (Jezica calculation)\n",
    "\n",
    "log(RC) (K/s)\n",
    "\n",
    "<-4 outstanding / -4 to -1 good / -1 to 2 reluctant poor / >2 extremely poor\n",
    "\n",
    "log[n(t_L)/t_L^2) (Pa s/K^2)]\n",
    "\n",
    "\\>-1 outstaning / -1 to -4 good / -4 to -7 reluctant poor / <-7 extremely poor\n"
   ]
  },
  {
   "cell_type": "code",
   "execution_count": 12,
   "id": "8a39927e",
   "metadata": {},
   "outputs": [],
   "source": [
    "viscosity = 10**v_t_L\n",
    "jezica = np.log10(viscosity/t_L/t_L)\n",
    "jezica\n",
    "vitrification_class = 'None'"
   ]
  },
  {
   "cell_type": "code",
   "execution_count": 13,
   "id": "24e9536b",
   "metadata": {},
   "outputs": [],
   "source": [
    "if jezica >= -1 :\n",
    "    vitrification_class = 'Outstanding'\n",
    "elif jezica < -1 and jezica >= -4 :\n",
    "    vitrification_class = 'Good (commercial glasses)'\n",
    "elif jezica < -4 and jezica >= -7 :\n",
    "    vitrification_class = 'Reluctant to poor'\n",
    "elif jezica < -7 :\n",
    "    vitrification_class = 'Extremly poor'"
   ]
  },
  {
   "cell_type": "code",
   "execution_count": 14,
   "id": "7787e1b2",
   "metadata": {},
   "outputs": [
    {
     "name": "stdout",
     "output_type": "stream",
     "text": [
      "[-3.781879] Good (commercial glasses)\n"
     ]
    }
   ],
   "source": [
    "print(jezica, vitrification_class)"
   ]
  }
 ],
 "metadata": {
  "kernelspec": {
   "display_name": "base",
   "language": "python",
   "name": "python3"
  },
  "language_info": {
   "codemirror_mode": {
    "name": "ipython",
    "version": 3
   },
   "file_extension": ".py",
   "mimetype": "text/x-python",
   "name": "python",
   "nbconvert_exporter": "python",
   "pygments_lexer": "ipython3",
   "version": "3.9.13 (main, Aug 25 2022, 23:51:50) [MSC v.1916 64 bit (AMD64)]"
  },
  "vscode": {
   "interpreter": {
    "hash": "ad2bdc8ecc057115af97d19610ffacc2b4e99fae6737bb82f5d7fb13d2f2c186"
   }
  }
 },
 "nbformat": 4,
 "nbformat_minor": 5
}
